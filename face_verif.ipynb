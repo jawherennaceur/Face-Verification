{
  "cells": [
    {
      "cell_type": "code",
      "execution_count": null,
      "metadata": {
        "id": "-yYum_SdMzz6"
      },
      "outputs": [],
      "source": [
        "from tensorflow.keras.models import Model\n",
        "from tensorflow.keras.layers import Layer, Conv2D, Dense, MaxPooling2D, Input, Flatten\n",
        "import tensorflow as tf\n",
        "import cv2\n",
        "import os\n",
        "from skimage import io\n",
        "import random\n",
        "import numpy as np\n",
        "from matplotlib import pyplot as plt\n",
        "from PIL import Image"
      ]
    },
    {
      "cell_type": "markdown",
      "metadata": {
        "id": "p6TXB4lCYd8m"
      },
      "source": [
        "#importing data"
      ]
    },
    {
      "cell_type": "code",
      "execution_count": null,
      "metadata": {
        "id": "maBedBvJBeKe"
      },
      "outputs": [],
      "source": [
        "data= []\n",
        "dir=\"/content/drive/MyDrive/ML/face verification/positive/\"\n",
        "images = os.listdir(dir)\n",
        "for image in images :\n",
        "  im = io.imread(dir  + image)\n",
        "  im = Image.fromarray(im ,'RGB')\n",
        "  im = im.resize((105,105))\n",
        "  ang = im.rotate(10)\n",
        "  hoz_flip = im.transpose(Image.FLIP_LEFT_RIGHT)\n",
        "  im = np.array(im) /255.0\n",
        "  ang= np.array(ang) / 255.0\n",
        "  hoz_flip = np.array(hoz_flip) / 255.0\n",
        "  data.append(np.array(im))\n",
        "  data.append(np.array(ang))\n",
        "  data.append(np.array(hoz_flip))\n",
        "positive =np.array(data)"
      ]
    },
    {
      "cell_type": "code",
      "execution_count": null,
      "metadata": {
        "colab": {
          "base_uri": "https://localhost:8080/"
        },
        "id": "RJN4BPEFdedA",
        "outputId": "01e73598-3298-4184-866d-93fe465afa6f"
      },
      "outputs": [
        {
          "output_type": "execute_result",
          "data": {
            "text/plain": [
              "(300, 105, 105, 3)"
            ]
          },
          "metadata": {},
          "execution_count": 4
        }
      ],
      "source": [
        "data= []\n",
        "dir=\"/content/drive/MyDrive/ML/face verification/negative/\"\n",
        "images = os.listdir(dir)\n",
        "for image in images :\n",
        "  im = io.imread(dir  + image)\n",
        "  im = Image.fromarray(im ,'RGB')\n",
        "  im = im.resize((105,105))\n",
        "  im = np.array(im) /255.0\n",
        "  data.append(im)\n",
        "negative =np.array(data)\n",
        "negative.shape"
      ]
    },
    {
      "cell_type": "code",
      "execution_count": null,
      "metadata": {
        "id": "URDus58Sdk6H"
      },
      "outputs": [],
      "source": [
        "data= []\n",
        "dir=\"/content/drive/MyDrive/ML/face verification/anchor/\"\n",
        "images = os.listdir(dir)\n",
        "for image in images :\n",
        "  im = io.imread(dir  + image)\n",
        "  im = Image.fromarray(im ,'RGB')\n",
        "  im = im.resize((105,105))\n",
        "  im = np.array(im) /255.0\n",
        "  data.append(im)\n",
        "anchor =np.array(data)"
      ]
    },
    {
      "cell_type": "code",
      "execution_count": null,
      "metadata": {
        "id": "T5CNM15ULPAZ"
      },
      "outputs": [],
      "source": [
        "positive = tf.data.Dataset.from_tensor_slices(positive)\n",
        "negative = tf.data.Dataset.from_tensor_slices(negative)\n",
        "anchor = tf.data.Dataset.from_tensor_slices(anchor)"
      ]
    },
    {
      "cell_type": "code",
      "execution_count": null,
      "metadata": {
        "id": "qQUwJw9yu-41"
      },
      "outputs": [],
      "source": [
        "positives = tf.data.Dataset.zip((anchor,positive,tf.data.Dataset.from_tensor_slices(tf.ones(300))))\n",
        "negatives = tf.data.Dataset.zip((anchor,negative,tf.data.Dataset.from_tensor_slices(tf.zeros(300))))"
      ]
    },
    {
      "cell_type": "code",
      "execution_count": null,
      "metadata": {
        "id": "lhA2LyFq3azM"
      },
      "outputs": [],
      "source": [
        "data = positives.concatenate(negatives)"
      ]
    },
    {
      "cell_type": "code",
      "execution_count": null,
      "metadata": {
        "id": "Oz8l0Fkv3i3Z"
      },
      "outputs": [],
      "source": [
        "def preprocess(input_img, validation_img, label):\n",
        "    return input_img, validation_img, label"
      ]
    },
    {
      "cell_type": "code",
      "execution_count": null,
      "metadata": {
        "id": "79F56j_r5-zn"
      },
      "outputs": [],
      "source": [
        "data = data.map(preprocess)\n",
        "data = data.cache()\n",
        "data = data.shuffle(buffer_size=10000)"
      ]
    },
    {
      "cell_type": "code",
      "execution_count": null,
      "metadata": {
        "id": "6oLFu4BT34nA"
      },
      "outputs": [],
      "source": [
        "train_data = data.take(round(len(data)*.7))\n",
        "train_data = train_data.batch(16)\n",
        "train_data = train_data.prefetch(8)"
      ]
    },
    {
      "cell_type": "code",
      "execution_count": null,
      "metadata": {
        "id": "UtRl7JtO3-Qb"
      },
      "outputs": [],
      "source": [
        "test_data = data.skip(round(len(data)*.7))\n",
        "test_data = test_data.take(round(len(data)*.3))\n",
        "test_data = test_data.batch(16)\n",
        "test_data = test_data.prefetch(8)"
      ]
    },
    {
      "cell_type": "markdown",
      "metadata": {
        "id": "U5pZIYoGYksh"
      },
      "source": [
        "#model"
      ]
    },
    {
      "cell_type": "code",
      "execution_count": null,
      "metadata": {
        "id": "zPR1oga3Mb84"
      },
      "outputs": [],
      "source": [
        "def embedding():\n",
        "  input= Input(shape=(105,105,3),name=\"input_image\")\n",
        "\n",
        "  conv1=Conv2D(64,(10,10),activation=\"relu\")(input)\n",
        "  pool1=MaxPooling2D(64,(2,2),padding=\"same\")(conv1)\n",
        "\n",
        "  conv2=Conv2D(128,(7,7),activation=\"relu\")(pool1)\n",
        "  pool2=MaxPooling2D(64,(2,2),padding=\"same\")(conv2)\n",
        "\n",
        "  conv3=Conv2D(128,(4,4),activation=\"relu\")(pool2)\n",
        "  pool3=MaxPooling2D(64,(2,2),padding=\"same\")(conv3)\n",
        "\n",
        "  conv4=Conv2D(256,(4,4),activation=\"relu\")(pool3)\n",
        "  flatten=Flatten()(conv4)\n",
        "  dense=Dense(4096,activation=\"sigmoid\")(flatten)\n",
        "\n",
        "  return Model(inputs=[input], outputs=[dense] ,name=\"embedding\")"
      ]
    },
    {
      "cell_type": "code",
      "execution_count": null,
      "metadata": {
        "id": "Z0Mukt8rWkfz"
      },
      "outputs": [],
      "source": [
        "embedding=embedding()"
      ]
    },
    {
      "cell_type": "code",
      "execution_count": null,
      "metadata": {
        "colab": {
          "base_uri": "https://localhost:8080/"
        },
        "id": "oU1_eLfnYSNj",
        "outputId": "d636f45c-b5f4-4616-d366-cc4234641060"
      },
      "outputs": [
        {
          "output_type": "stream",
          "name": "stdout",
          "text": [
            "Model: \"embedding\"\n",
            "_________________________________________________________________\n",
            " Layer (type)                Output Shape              Param #   \n",
            "=================================================================\n",
            " input_image (InputLayer)    [(None, 105, 105, 3)]     0         \n",
            "                                                                 \n",
            " conv2d_5 (Conv2D)           (None, 96, 96, 64)        19264     \n",
            "                                                                 \n",
            " max_pooling2d_3 (MaxPooling  (None, 48, 48, 64)       0         \n",
            " 2D)                                                             \n",
            "                                                                 \n",
            " conv2d_6 (Conv2D)           (None, 42, 42, 128)       401536    \n",
            "                                                                 \n",
            " max_pooling2d_4 (MaxPooling  (None, 21, 21, 128)      0         \n",
            " 2D)                                                             \n",
            "                                                                 \n",
            " conv2d_7 (Conv2D)           (None, 18, 18, 128)       262272    \n",
            "                                                                 \n",
            " max_pooling2d_5 (MaxPooling  (None, 9, 9, 128)        0         \n",
            " 2D)                                                             \n",
            "                                                                 \n",
            " conv2d_8 (Conv2D)           (None, 6, 6, 256)         524544    \n",
            "                                                                 \n",
            " flatten_1 (Flatten)         (None, 9216)              0         \n",
            "                                                                 \n",
            " dense_2 (Dense)             (None, 4096)              37752832  \n",
            "                                                                 \n",
            "=================================================================\n",
            "Total params: 38,960,448\n",
            "Trainable params: 38,960,448\n",
            "Non-trainable params: 0\n",
            "_________________________________________________________________\n"
          ]
        }
      ],
      "source": [
        "embedding.summary()"
      ]
    },
    {
      "cell_type": "code",
      "execution_count": null,
      "metadata": {
        "id": "RFK6pRBUV2Vh"
      },
      "outputs": [],
      "source": [
        "class Distance(Layer):\n",
        "    def __init__(self, **kwargs):\n",
        "        super().__init__()\n",
        "    def call(self, input_embedding, validation_embedding):\n",
        "        return tf.math.abs(input_embedding - validation_embedding)"
      ]
    },
    {
      "cell_type": "code",
      "execution_count": null,
      "metadata": {
        "colab": {
          "base_uri": "https://localhost:8080/"
        },
        "id": "Gy9G0piuWM_Z",
        "outputId": "b1388b07-095d-4d32-a621-b02e545ccf3d"
      },
      "outputs": [
        {
          "output_type": "execute_result",
          "data": {
            "text/plain": [
              "<KerasTensor: shape=(None, 1) dtype=float32 (created by layer 'dense_3')>"
            ]
          },
          "metadata": {},
          "execution_count": 30
        }
      ],
      "source": [
        "input_image = Input(name='input_img', shape=(105,105,3))\n",
        "validation_image = Input(name='validation_img', shape=(105,105,3))\n",
        "inp_embedding = embedding(input_image)\n",
        "val_embedding = embedding(validation_image)\n",
        "siamese_layer = Distance()\n",
        "distances = siamese_layer(inp_embedding, val_embedding)\n",
        "classifier = Dense(1, activation='sigmoid')(distances)\n",
        "classifier"
      ]
    },
    {
      "cell_type": "code",
      "execution_count": null,
      "metadata": {
        "id": "qYqjeVorWw9d"
      },
      "outputs": [],
      "source": [
        "siamese_network = Model(inputs=[input_image, validation_image], outputs=classifier, name='SiameseNetwork')"
      ]
    },
    {
      "cell_type": "code",
      "execution_count": null,
      "metadata": {
        "id": "i4iSbrEmXUxe"
      },
      "outputs": [],
      "source": [
        "def siamese():\n",
        "  input_image = Input(name='input_img', shape=(105,105,3)) \n",
        "  validation_image = Input(name='validation_img', shape=(105,105,3))\n",
        "  siamese_layer = Distance()\n",
        "  siamese_layer._name = 'distance'\n",
        "  distances = siamese_layer(embedding(input_image), embedding(validation_image))\n",
        "  classifier = Dense(1,activation=\"sigmoid\")(distances)\n",
        "  return Model(inputs=[input_image, validation_image], outputs=classifier, name='SiameseNetwork')"
      ]
    },
    {
      "cell_type": "code",
      "execution_count": null,
      "metadata": {
        "id": "iq9yCdquX6dz"
      },
      "outputs": [],
      "source": [
        "siamese_model = siamese()"
      ]
    },
    {
      "cell_type": "code",
      "execution_count": null,
      "metadata": {
        "colab": {
          "base_uri": "https://localhost:8080/"
        },
        "id": "lzawIdyRX_TY",
        "outputId": "467dc79f-2929-4c48-9974-0dc95798cfd2"
      },
      "outputs": [
        {
          "output_type": "stream",
          "name": "stdout",
          "text": [
            "Model: \"SiameseNetwork\"\n",
            "__________________________________________________________________________________________________\n",
            " Layer (type)                   Output Shape         Param #     Connected to                     \n",
            "==================================================================================================\n",
            " input_img (InputLayer)         [(None, 105, 105, 3  0           []                               \n",
            "                                )]                                                                \n",
            "                                                                                                  \n",
            " validation_img (InputLayer)    [(None, 105, 105, 3  0           []                               \n",
            "                                )]                                                                \n",
            "                                                                                                  \n",
            " embedding (Functional)         (None, 4096)         38960448    ['input_img[0][0]',              \n",
            "                                                                  'validation_img[0][0]']         \n",
            "                                                                                                  \n",
            " distance (Distance)            (None, 4096)         0           ['embedding[2][0]',              \n",
            "                                                                  'embedding[3][0]']              \n",
            "                                                                                                  \n",
            " dense_4 (Dense)                (None, 1)            4097        ['distance[0][0]']               \n",
            "                                                                                                  \n",
            "==================================================================================================\n",
            "Total params: 38,964,545\n",
            "Trainable params: 38,964,545\n",
            "Non-trainable params: 0\n",
            "__________________________________________________________________________________________________\n"
          ]
        }
      ],
      "source": [
        "siamese_model.summary()"
      ]
    },
    {
      "cell_type": "code",
      "execution_count": null,
      "metadata": {
        "id": "8KQhWHr1ZmMP"
      },
      "outputs": [],
      "source": [
        "binary_cross_loss = tf.losses.BinaryCrossentropy()\n",
        "opt = tf.keras.optimizers.Adam(1e-4)"
      ]
    },
    {
      "cell_type": "markdown",
      "metadata": {
        "id": "a0x2iZ22YpwT"
      },
      "source": [
        "#training"
      ]
    },
    {
      "cell_type": "code",
      "execution_count": null,
      "metadata": {
        "id": "u0YmsmekYtAn"
      },
      "outputs": [],
      "source": [
        "def step(batch):\n",
        "  with tf.GradientTape() as tape:\n",
        "    X=batch[:2]\n",
        "    y=batch[2]\n",
        "    yhat= siamese_model(X, training=True)\n",
        "    loss = binary_cross_loss(y, yhat)\n",
        "  print(loss)\n",
        "  grad = tape.gradient(loss, siamese_model.trainable_variables)\n",
        "  opt.apply_gradients(zip(grad, siamese_model.trainable_variables))\n",
        "  return loss"
      ]
    },
    {
      "cell_type": "code",
      "execution_count": null,
      "metadata": {
        "id": "ocSEmrylaUMH"
      },
      "outputs": [],
      "source": [
        "from tensorflow.keras.metrics import Precision, Recall , Accuracy"
      ]
    },
    {
      "cell_type": "code",
      "execution_count": null,
      "metadata": {
        "id": "TCEpmsjXaMM8"
      },
      "outputs": [],
      "source": [
        "def train(data, EPOCHS):\n",
        "    for epoch in range(1, EPOCHS+1):\n",
        "        print('\\n Epoch {}/{}'.format(epoch, EPOCHS))\n",
        "        progbar = tf.keras.utils.Progbar(len(data)) \n",
        "        r = Recall()\n",
        "        p = Precision()\n",
        "        a = Accuracy()\n",
        "        for idx, batch in enumerate(data):\n",
        "            # Run train step here\n",
        "            loss = step(batch)\n",
        "            yhat = siamese_model.predict(batch[:2])\n",
        "            r.update_state(batch[2], yhat)\n",
        "            p.update_state(batch[2], yhat)\n",
        "            a.update_state(batch[2], yhat) \n",
        "            progbar.update(idx+1)\n",
        "        print(\"loss= \" , loss.numpy(),\"accuracy = \" , a.result(),\"recall = \" , r.result().numpy(),\"Precision =\" , p.result().numpy())\n"
      ]
    },
    {
      "cell_type": "code",
      "execution_count": 40,
      "metadata": {
        "colab": {
          "base_uri": "https://localhost:8080/"
        },
        "id": "w-R4-KGNaYq8",
        "outputId": "3b5451d5-01ff-46c0-8456-851787661896"
      },
      "outputs": [
        {
          "output_type": "stream",
          "name": "stdout",
          "text": [
            "\n",
            " Epoch 1/5\n",
            "tf.Tensor(0.6931009, shape=(), dtype=float32)\n",
            "1/1 [==============================] - 4s 4s/step\n",
            " 1/27 [>.............................] - ETA: 29:13tf.Tensor(0.6908394, shape=(), dtype=float32)\n",
            "1/1 [==============================] - 4s 4s/step\n",
            " 2/27 [=>............................] - ETA: 26:20tf.Tensor(0.68511295, shape=(), dtype=float32)\n",
            "1/1 [==============================] - 5s 5s/step\n",
            " 3/27 [==>...........................] - ETA: 25:36tf.Tensor(0.67910445, shape=(), dtype=float32)\n",
            "1/1 [==============================] - 4s 4s/step\n",
            " 4/27 [===>..........................] - ETA: 24:22tf.Tensor(0.6501428, shape=(), dtype=float32)\n",
            "1/1 [==============================] - 6s 6s/step\n",
            " 5/27 [====>.........................] - ETA: 23:25tf.Tensor(0.66541696, shape=(), dtype=float32)\n",
            "1/1 [==============================] - 4s 4s/step\n",
            " 6/27 [=====>........................] - ETA: 22:18tf.Tensor(0.66017306, shape=(), dtype=float32)\n",
            "1/1 [==============================] - 6s 6s/step\n",
            " 7/27 [======>.......................] - ETA: 21:21tf.Tensor(0.53576237, shape=(), dtype=float32)\n",
            "1/1 [==============================] - 4s 4s/step\n",
            " 8/27 [=======>......................] - ETA: 20:13tf.Tensor(0.5319568, shape=(), dtype=float32)\n",
            "1/1 [==============================] - 6s 6s/step\n",
            " 9/27 [=========>....................] - ETA: 19:14tf.Tensor(0.36499375, shape=(), dtype=float32)\n",
            "1/1 [==============================] - 4s 4s/step\n",
            "10/27 [==========>...................] - ETA: 18:11tf.Tensor(0.49171388, shape=(), dtype=float32)\n",
            "1/1 [==============================] - 6s 6s/step\n",
            "11/27 [===========>..................] - ETA: 17:11tf.Tensor(0.47796935, shape=(), dtype=float32)\n",
            "1/1 [==============================] - 4s 4s/step\n",
            "12/27 [============>.................] - ETA: 16:04tf.Tensor(0.44184193, shape=(), dtype=float32)\n",
            "1/1 [==============================] - 6s 6s/step\n",
            "13/27 [=============>................] - ETA: 15:02tf.Tensor(0.6706772, shape=(), dtype=float32)\n",
            "1/1 [==============================] - 4s 4s/step\n",
            "14/27 [==============>...............] - ETA: 13:56tf.Tensor(0.40182993, shape=(), dtype=float32)\n",
            "1/1 [==============================] - 6s 6s/step\n",
            "15/27 [===============>..............] - ETA: 12:52tf.Tensor(0.29578865, shape=(), dtype=float32)\n",
            "1/1 [==============================] - 4s 4s/step\n",
            "16/27 [================>.............] - ETA: 11:47tf.Tensor(0.30882585, shape=(), dtype=float32)\n",
            "1/1 [==============================] - 5s 5s/step\n",
            "17/27 [=================>............] - ETA: 10:42tf.Tensor(0.5325199, shape=(), dtype=float32)\n",
            "1/1 [==============================] - 4s 4s/step\n",
            "18/27 [===================>..........] - ETA: 9:38 tf.Tensor(0.7487862, shape=(), dtype=float32)\n",
            "1/1 [==============================] - 4s 4s/step\n",
            "19/27 [====================>.........] - ETA: 8:33tf.Tensor(0.43977413, shape=(), dtype=float32)\n",
            "1/1 [==============================] - 5s 5s/step\n",
            "20/27 [=====================>........] - ETA: 7:29tf.Tensor(0.45786098, shape=(), dtype=float32)\n",
            "1/1 [==============================] - 4s 4s/step\n",
            "21/27 [======================>.......] - ETA: 6:24tf.Tensor(0.5746634, shape=(), dtype=float32)\n",
            "1/1 [==============================] - 6s 6s/step\n",
            "22/27 [=======================>......] - ETA: 5:20tf.Tensor(0.29873264, shape=(), dtype=float32)\n",
            "1/1 [==============================] - 4s 4s/step\n",
            "23/27 [========================>.....] - ETA: 4:16tf.Tensor(0.5290114, shape=(), dtype=float32)\n",
            "1/1 [==============================] - 6s 6s/step\n",
            "24/27 [=========================>....] - ETA: 3:12tf.Tensor(0.4143322, shape=(), dtype=float32)\n",
            "1/1 [==============================] - 4s 4s/step\n",
            "25/27 [==========================>...] - ETA: 2:08tf.Tensor(0.38381493, shape=(), dtype=float32)\n",
            "1/1 [==============================] - 5s 5s/step\n",
            "26/27 [===========================>..] - ETA: 1:04tf.Tensor(0.25677747, shape=(), dtype=float32)\n",
            "1/1 [==============================] - 1s 1s/step\n",
            "27/27 [==============================] - 1688s 62s/step\n",
            "loss=  0.25677747 accuracy =  tf.Tensor(0.0, shape=(), dtype=float32) recall =  0.853211 Precision = 0.82666665\n",
            "\n",
            " Epoch 2/5\n",
            "tf.Tensor(0.23676082, shape=(), dtype=float32)\n",
            "1/1 [==============================] - 4s 4s/step\n",
            " 1/27 [>.............................] - ETA: 27:16tf.Tensor(0.34534988, shape=(), dtype=float32)\n",
            "1/1 [==============================] - 5s 5s/step\n",
            " 2/27 [=>............................] - ETA: 27:01tf.Tensor(0.35591996, shape=(), dtype=float32)\n",
            "1/1 [==============================] - 4s 4s/step\n",
            " 3/27 [==>...........................] - ETA: 25:33tf.Tensor(0.30268645, shape=(), dtype=float32)\n",
            "1/1 [==============================] - 6s 6s/step\n",
            " 4/27 [===>..........................] - ETA: 24:39tf.Tensor(0.37199718, shape=(), dtype=float32)\n",
            "1/1 [==============================] - 4s 4s/step\n",
            " 5/27 [====>.........................] - ETA: 23:27tf.Tensor(0.2545552, shape=(), dtype=float32)\n",
            "1/1 [==============================] - 6s 6s/step\n",
            " 6/27 [=====>........................] - ETA: 22:26tf.Tensor(0.21714573, shape=(), dtype=float32)\n",
            "1/1 [==============================] - 4s 4s/step\n",
            " 7/27 [======>.......................] - ETA: 21:17tf.Tensor(0.3427902, shape=(), dtype=float32)\n",
            "1/1 [==============================] - 5s 5s/step\n",
            " 8/27 [=======>......................] - ETA: 20:13tf.Tensor(0.38920772, shape=(), dtype=float32)\n",
            "1/1 [==============================] - 4s 4s/step\n",
            " 9/27 [=========>....................] - ETA: 19:12tf.Tensor(0.20335937, shape=(), dtype=float32)\n",
            "1/1 [==============================] - 5s 5s/step\n",
            "10/27 [==========>...................] - ETA: 18:10tf.Tensor(0.34048784, shape=(), dtype=float32)\n",
            "1/1 [==============================] - 4s 4s/step\n",
            "11/27 [===========>..................] - ETA: 17:05tf.Tensor(0.42954212, shape=(), dtype=float32)\n",
            "1/1 [==============================] - 4s 4s/step\n",
            "12/27 [============>.................] - ETA: 15:59tf.Tensor(0.09232538, shape=(), dtype=float32)\n",
            "1/1 [==============================] - 5s 5s/step\n",
            "13/27 [=============>................] - ETA: 14:56tf.Tensor(0.2882385, shape=(), dtype=float32)\n",
            "1/1 [==============================] - 4s 4s/step\n",
            "14/27 [==============>...............] - ETA: 13:51tf.Tensor(0.14139323, shape=(), dtype=float32)\n",
            "1/1 [==============================] - 6s 6s/step\n",
            "15/27 [===============>..............] - ETA: 12:48tf.Tensor(0.1922778, shape=(), dtype=float32)\n",
            "1/1 [==============================] - 4s 4s/step\n",
            "16/27 [================>.............] - ETA: 11:43tf.Tensor(0.124344565, shape=(), dtype=float32)\n",
            "1/1 [==============================] - 7s 7s/step\n",
            "17/27 [=================>............] - ETA: 10:41tf.Tensor(0.049238175, shape=(), dtype=float32)\n",
            "1/1 [==============================] - 7s 7s/step\n",
            "18/27 [===================>..........] - ETA: 9:41 tf.Tensor(0.13097379, shape=(), dtype=float32)\n",
            "1/1 [==============================] - 5s 5s/step\n",
            "19/27 [====================>.........] - ETA: 8:41tf.Tensor(0.085839674, shape=(), dtype=float32)\n",
            "1/1 [==============================] - 5s 5s/step\n",
            "20/27 [=====================>........] - ETA: 7:40tf.Tensor(0.4162987, shape=(), dtype=float32)\n",
            "1/1 [==============================] - 4s 4s/step\n",
            "21/27 [======================>.......] - ETA: 6:34tf.Tensor(0.035408445, shape=(), dtype=float32)\n",
            "1/1 [==============================] - 5s 5s/step\n",
            "22/27 [=======================>......] - ETA: 5:29tf.Tensor(0.12403646, shape=(), dtype=float32)\n",
            "1/1 [==============================] - 5s 5s/step\n",
            "23/27 [========================>.....] - ETA: 4:24tf.Tensor(0.14096382, shape=(), dtype=float32)\n",
            "1/1 [==============================] - 4s 4s/step\n",
            "24/27 [=========================>....] - ETA: 3:18tf.Tensor(0.08412801, shape=(), dtype=float32)\n",
            "1/1 [==============================] - 6s 6s/step\n",
            "25/27 [==========================>...] - ETA: 2:13tf.Tensor(0.08247449, shape=(), dtype=float32)\n",
            "1/1 [==============================] - 4s 4s/step\n",
            "26/27 [===========================>..] - ETA: 1:06tf.Tensor(0.035760358, shape=(), dtype=float32)\n",
            "1/1 [==============================] - 2s 2s/step\n",
            "27/27 [==============================] - 1747s 65s/step\n",
            "loss=  0.035760358 accuracy =  tf.Tensor(0.0, shape=(), dtype=float32) recall =  0.9259259 Precision = 0.9389671\n",
            "\n",
            " Epoch 3/5\n",
            "tf.Tensor(0.026486356, shape=(), dtype=float32)\n",
            "1/1 [==============================] - 4s 4s/step\n",
            " 1/27 [>.............................] - ETA: 26:49tf.Tensor(0.38416654, shape=(), dtype=float32)\n",
            "1/1 [==============================] - 5s 5s/step\n",
            " 2/27 [=>............................] - ETA: 26:07tf.Tensor(0.09558939, shape=(), dtype=float32)\n",
            "1/1 [==============================] - 6s 6s/step\n",
            " 3/27 [==>...........................] - ETA: 25:28tf.Tensor(0.38414043, shape=(), dtype=float32)\n",
            "1/1 [==============================] - 4s 4s/step\n",
            " 4/27 [===>..........................] - ETA: 24:20tf.Tensor(0.0800927, shape=(), dtype=float32)\n",
            "1/1 [==============================] - 5s 5s/step\n",
            " 5/27 [====>.........................] - ETA: 23:41tf.Tensor(0.12124951, shape=(), dtype=float32)\n",
            "1/1 [==============================] - 4s 4s/step\n",
            " 6/27 [=====>........................] - ETA: 22:34tf.Tensor(0.23867473, shape=(), dtype=float32)\n",
            "1/1 [==============================] - 5s 5s/step\n",
            " 7/27 [======>.......................] - ETA: 21:21tf.Tensor(0.0464046, shape=(), dtype=float32)\n",
            "1/1 [==============================] - 4s 4s/step\n",
            " 8/27 [=======>......................] - ETA: 20:11tf.Tensor(0.110228784, shape=(), dtype=float32)\n",
            "1/1 [==============================] - 6s 6s/step\n",
            " 9/27 [=========>....................] - ETA: 19:04tf.Tensor(0.030397607, shape=(), dtype=float32)\n",
            "1/1 [==============================] - 4s 4s/step\n",
            "10/27 [==========>...................] - ETA: 17:55tf.Tensor(0.03213088, shape=(), dtype=float32)\n",
            "1/1 [==============================] - 5s 5s/step\n",
            "11/27 [===========>..................] - ETA: 16:51tf.Tensor(0.08848612, shape=(), dtype=float32)\n",
            "1/1 [==============================] - 5s 5s/step\n",
            "12/27 [============>.................] - ETA: 15:54tf.Tensor(0.07113202, shape=(), dtype=float32)\n",
            "1/1 [==============================] - 6s 6s/step\n",
            "13/27 [=============>................] - ETA: 14:51tf.Tensor(0.08711889, shape=(), dtype=float32)\n",
            "1/1 [==============================] - 4s 4s/step\n",
            "14/27 [==============>...............] - ETA: 13:45tf.Tensor(0.2314494, shape=(), dtype=float32)\n",
            "1/1 [==============================] - 4s 4s/step\n",
            "15/27 [===============>..............] - ETA: 12:45tf.Tensor(0.09426677, shape=(), dtype=float32)\n",
            "1/1 [==============================] - 6s 6s/step\n",
            "16/27 [================>.............] - ETA: 11:41tf.Tensor(0.018976577, shape=(), dtype=float32)\n",
            "1/1 [==============================] - 6s 6s/step\n",
            "17/27 [=================>............] - ETA: 10:39tf.Tensor(0.08628219, shape=(), dtype=float32)\n",
            "1/1 [==============================] - 5s 5s/step\n",
            "18/27 [===================>..........] - ETA: 9:35 tf.Tensor(0.061467644, shape=(), dtype=float32)\n",
            "1/1 [==============================] - 4s 4s/step\n",
            "19/27 [====================>.........] - ETA: 8:31tf.Tensor(0.17334929, shape=(), dtype=float32)\n",
            "1/1 [==============================] - 6s 6s/step\n",
            "20/27 [=====================>........] - ETA: 7:27tf.Tensor(0.17452566, shape=(), dtype=float32)\n",
            "1/1 [==============================] - 4s 4s/step\n",
            "21/27 [======================>.......] - ETA: 6:22tf.Tensor(0.08782223, shape=(), dtype=float32)\n",
            "1/1 [==============================] - 4s 4s/step\n",
            "22/27 [=======================>......] - ETA: 5:18tf.Tensor(0.04140303, shape=(), dtype=float32)\n",
            "1/1 [==============================] - 6s 6s/step\n",
            "23/27 [========================>.....] - ETA: 4:14tf.Tensor(0.28529757, shape=(), dtype=float32)\n",
            "1/1 [==============================] - 4s 4s/step\n",
            "24/27 [=========================>....] - ETA: 3:10tf.Tensor(0.089992985, shape=(), dtype=float32)\n",
            "1/1 [==============================] - 5s 5s/step\n",
            "25/27 [==========================>...] - ETA: 2:07tf.Tensor(0.021963969, shape=(), dtype=float32)\n",
            "1/1 [==============================] - 5s 5s/step\n",
            "26/27 [===========================>..] - ETA: 1:03tf.Tensor(0.0047233296, shape=(), dtype=float32)\n",
            "1/1 [==============================] - 1s 1s/step\n",
            "27/27 [==============================] - 1668s 62s/step\n",
            "loss=  0.0047233296 accuracy =  tf.Tensor(0.0, shape=(), dtype=float32) recall =  0.98536587 Precision = 0.99019605\n",
            "\n",
            " Epoch 4/5\n",
            "tf.Tensor(0.2435027, shape=(), dtype=float32)\n",
            "1/1 [==============================] - 5s 5s/step\n",
            " 1/27 [>.............................] - ETA: 27:20tf.Tensor(0.1462184, shape=(), dtype=float32)\n",
            "1/1 [==============================] - 4s 4s/step\n",
            " 2/27 [=>............................] - ETA: 26:08tf.Tensor(0.017157335, shape=(), dtype=float32)\n",
            "1/1 [==============================] - 6s 6s/step\n",
            " 3/27 [==>...........................] - ETA: 25:03tf.Tensor(0.015398922, shape=(), dtype=float32)\n",
            "1/1 [==============================] - 4s 4s/step\n",
            " 4/27 [===>..........................] - ETA: 23:48tf.Tensor(0.08682901, shape=(), dtype=float32)\n",
            "1/1 [==============================] - 4s 4s/step\n",
            " 5/27 [====>.........................] - ETA: 22:48tf.Tensor(0.007773217, shape=(), dtype=float32)\n",
            "1/1 [==============================] - 5s 5s/step\n",
            " 6/27 [=====>........................] - ETA: 21:47tf.Tensor(0.006493491, shape=(), dtype=float32)\n",
            "1/1 [==============================] - 4s 4s/step\n",
            " 7/27 [======>.......................] - ETA: 20:41tf.Tensor(0.06533362, shape=(), dtype=float32)\n",
            "1/1 [==============================] - 6s 6s/step\n",
            " 8/27 [=======>......................] - ETA: 19:39tf.Tensor(0.02171477, shape=(), dtype=float32)\n",
            "1/1 [==============================] - 4s 4s/step\n",
            " 9/27 [=========>....................] - ETA: 18:34tf.Tensor(0.025637548, shape=(), dtype=float32)\n",
            "1/1 [==============================] - 4s 4s/step\n",
            "10/27 [==========>...................] - ETA: 17:33tf.Tensor(0.033019245, shape=(), dtype=float32)\n",
            "1/1 [==============================] - 5s 5s/step\n",
            "11/27 [===========>..................] - ETA: 16:32tf.Tensor(0.046971314, shape=(), dtype=float32)\n",
            "1/1 [==============================] - 4s 4s/step\n",
            "12/27 [============>.................] - ETA: 15:28tf.Tensor(0.06085828, shape=(), dtype=float32)\n",
            "1/1 [==============================] - 6s 6s/step\n",
            "13/27 [=============>................] - ETA: 14:27tf.Tensor(0.057284556, shape=(), dtype=float32)\n",
            "1/1 [==============================] - 4s 4s/step\n",
            "14/27 [==============>...............] - ETA: 13:24tf.Tensor(0.030695517, shape=(), dtype=float32)\n",
            "1/1 [==============================] - 4s 4s/step\n",
            "15/27 [===============>..............] - ETA: 12:23tf.Tensor(0.39168638, shape=(), dtype=float32)\n",
            "1/1 [==============================] - 6s 6s/step\n",
            "16/27 [================>.............] - ETA: 11:21tf.Tensor(0.014274992, shape=(), dtype=float32)\n",
            "1/1 [==============================] - 4s 4s/step\n",
            "17/27 [=================>............] - ETA: 10:19tf.Tensor(0.0052993996, shape=(), dtype=float32)\n",
            "1/1 [==============================] - 6s 6s/step\n",
            "18/27 [===================>..........] - ETA: 9:17 tf.Tensor(0.04570317, shape=(), dtype=float32)\n",
            "1/1 [==============================] - 4s 4s/step\n",
            "19/27 [====================>.........] - ETA: 8:15tf.Tensor(0.08110763, shape=(), dtype=float32)\n",
            "1/1 [==============================] - 4s 4s/step\n",
            "20/27 [=====================>........] - ETA: 7:13tf.Tensor(0.05812617, shape=(), dtype=float32)\n",
            "1/1 [==============================] - 6s 6s/step\n",
            "21/27 [======================>.......] - ETA: 6:12tf.Tensor(0.01866174, shape=(), dtype=float32)\n",
            "1/1 [==============================] - 4s 4s/step\n",
            "22/27 [=======================>......] - ETA: 5:10tf.Tensor(0.44088244, shape=(), dtype=float32)\n",
            "1/1 [==============================] - 4s 4s/step\n",
            "23/27 [========================>.....] - ETA: 4:08tf.Tensor(0.018121263, shape=(), dtype=float32)\n",
            "1/1 [==============================] - 6s 6s/step\n",
            "24/27 [=========================>....] - ETA: 3:06tf.Tensor(0.01652418, shape=(), dtype=float32)\n",
            "1/1 [==============================] - 4s 4s/step\n",
            "25/27 [==========================>...] - ETA: 2:04tf.Tensor(0.3574599, shape=(), dtype=float32)\n",
            "1/1 [==============================] - 4s 4s/step\n",
            "26/27 [===========================>..] - ETA: 1:02tf.Tensor(0.0052069374, shape=(), dtype=float32)\n",
            "1/1 [==============================] - 1s 1s/step\n",
            "27/27 [==============================] - 1638s 61s/step\n",
            "loss=  0.0052069374 accuracy =  tf.Tensor(0.0, shape=(), dtype=float32) recall =  0.99019605 Precision = 0.98536587\n",
            "\n",
            " Epoch 5/5\n",
            "tf.Tensor(0.030471832, shape=(), dtype=float32)\n",
            "1/1 [==============================] - 4s 4s/step\n",
            " 1/27 [>.............................] - ETA: 27:24tf.Tensor(0.13542111, shape=(), dtype=float32)\n",
            "1/1 [==============================] - 6s 6s/step\n",
            " 2/27 [=>............................] - ETA: 26:05tf.Tensor(0.05263804, shape=(), dtype=float32)\n",
            "1/1 [==============================] - 4s 4s/step\n",
            " 3/27 [==>...........................] - ETA: 24:45tf.Tensor(0.009808969, shape=(), dtype=float32)\n",
            "1/1 [==============================] - 4s 4s/step\n",
            " 4/27 [===>..........................] - ETA: 23:53tf.Tensor(0.012654178, shape=(), dtype=float32)\n",
            "1/1 [==============================] - 5s 5s/step\n",
            " 5/27 [====>.........................] - ETA: 22:48tf.Tensor(0.08388338, shape=(), dtype=float32)\n",
            "1/1 [==============================] - 4s 4s/step\n",
            " 6/27 [=====>........................] - ETA: 21:44tf.Tensor(0.018307526, shape=(), dtype=float32)\n",
            "1/1 [==============================] - 6s 6s/step\n",
            " 7/27 [======>.......................] - ETA: 20:44tf.Tensor(0.1770394, shape=(), dtype=float32)\n",
            "1/1 [==============================] - 4s 4s/step\n",
            " 8/27 [=======>......................] - ETA: 19:39tf.Tensor(0.017771991, shape=(), dtype=float32)\n",
            "1/1 [==============================] - 4s 4s/step\n",
            " 9/27 [=========>....................] - ETA: 18:38tf.Tensor(0.0030729487, shape=(), dtype=float32)\n",
            "1/1 [==============================] - 5s 5s/step\n",
            "10/27 [==========>...................] - ETA: 17:36tf.Tensor(0.05565872, shape=(), dtype=float32)\n",
            "1/1 [==============================] - 4s 4s/step\n",
            "11/27 [===========>..................] - ETA: 16:33tf.Tensor(0.04133574, shape=(), dtype=float32)\n",
            "1/1 [==============================] - 6s 6s/step\n",
            "12/27 [============>.................] - ETA: 15:32tf.Tensor(0.027361885, shape=(), dtype=float32)\n",
            "1/1 [==============================] - 4s 4s/step\n",
            "13/27 [=============>................] - ETA: 14:28tf.Tensor(0.06431365, shape=(), dtype=float32)\n",
            "1/1 [==============================] - 5s 5s/step\n",
            "14/27 [==============>...............] - ETA: 13:27tf.Tensor(0.014053177, shape=(), dtype=float32)\n",
            "1/1 [==============================] - 6s 6s/step\n",
            "15/27 [===============>..............] - ETA: 12:27tf.Tensor(0.22119705, shape=(), dtype=float32)\n",
            "1/1 [==============================] - 4s 4s/step\n",
            "16/27 [================>.............] - ETA: 11:24tf.Tensor(0.011372788, shape=(), dtype=float32)\n",
            "1/1 [==============================] - 4s 4s/step\n",
            "17/27 [=================>............] - ETA: 10:22tf.Tensor(0.046101496, shape=(), dtype=float32)\n",
            "1/1 [==============================] - 6s 6s/step\n",
            "18/27 [===================>..........] - ETA: 9:21 tf.Tensor(0.009475717, shape=(), dtype=float32)\n",
            "1/1 [==============================] - 4s 4s/step\n",
            "19/27 [====================>.........] - ETA: 8:18tf.Tensor(0.07507491, shape=(), dtype=float32)\n",
            "1/1 [==============================] - 4s 4s/step\n",
            "20/27 [=====================>........] - ETA: 7:16tf.Tensor(0.039873958, shape=(), dtype=float32)\n",
            "1/1 [==============================] - 5s 5s/step\n",
            "21/27 [======================>.......] - ETA: 6:14tf.Tensor(0.1300793, shape=(), dtype=float32)\n",
            "1/1 [==============================] - 4s 4s/step\n",
            "22/27 [=======================>......] - ETA: 5:11tf.Tensor(0.21993919, shape=(), dtype=float32)\n",
            "1/1 [==============================] - 6s 6s/step\n",
            "23/27 [========================>.....] - ETA: 4:09tf.Tensor(0.046043023, shape=(), dtype=float32)\n",
            "1/1 [==============================] - 4s 4s/step\n",
            "24/27 [=========================>....] - ETA: 3:06tf.Tensor(0.011751061, shape=(), dtype=float32)\n",
            "1/1 [==============================] - 4s 4s/step\n",
            "25/27 [==========================>...] - ETA: 2:04tf.Tensor(0.013150755, shape=(), dtype=float32)\n",
            "1/1 [==============================] - 6s 6s/step\n",
            "26/27 [===========================>..] - ETA: 1:02tf.Tensor(0.004413748, shape=(), dtype=float32)\n",
            "1/1 [==============================] - 2s 2s/step\n",
            "27/27 [==============================] - 1649s 61s/step\n",
            "loss=  0.004413748 accuracy =  tf.Tensor(0.0, shape=(), dtype=float32) recall =  0.9858491 Precision = 1.0\n"
          ]
        }
      ],
      "source": [
        "EPOCHS=5\n",
        "train(train_data, EPOCHS)"
      ]
    },
    {
      "cell_type": "markdown",
      "metadata": {
        "id": "qDkbsQqJYy2o"
      },
      "source": [
        "#evaluating the model"
      ]
    },
    {
      "cell_type": "code",
      "execution_count": null,
      "metadata": {
        "id": "xCtlZLeYC1um"
      },
      "outputs": [],
      "source": [
        "test_input, test_val, y_true = test_data.as_numpy_iterator().next()\n",
        "y_hat = siamese_model.predict([test_input, test_val])\n",
        "[1 if prediction > 0.5 else 0 for prediction in y_hat ]"
      ]
    },
    {
      "cell_type": "code",
      "execution_count": null,
      "metadata": {
        "id": "W85ANFbEY4Mr"
      },
      "outputs": [],
      "source": [
        "test_input, test_val, y_true = test_data.as_numpy_iterator().next()"
      ]
    },
    {
      "cell_type": "code",
      "execution_count": null,
      "metadata": {
        "id": "oKA3KovAC8H-"
      },
      "outputs": [],
      "source": [
        "y_true"
      ]
    },
    {
      "cell_type": "code",
      "execution_count": null,
      "metadata": {
        "id": "rdis88bcC-o9"
      },
      "outputs": [],
      "source": [
        "plt.figure(figsize=(10,8))\n",
        "plt.subplot(1,2,1)\n",
        "plt.imshow(test_input[13])\n",
        "plt.subplot(1,2,2)\n",
        "plt.imshow(test_val[13])\n",
        "plt.show()"
      ]
    },
    {
      "cell_type": "code",
      "execution_count": null,
      "metadata": {
        "id": "nq19VW5kDMVW"
      },
      "outputs": [],
      "source": [
        "siamese_model.save('face_verif.h5')"
      ]
    },
    {
      "cell_type": "code",
      "execution_count": null,
      "metadata": {
        "id": "eQPjIIqZDd2X"
      },
      "outputs": [],
      "source": [
        "siamesemodel = tf.keras.models.load_model('face_verif.h5', \n",
        "                                   custom_objects={'Distance':Distance, 'BinaryCrossentropy':tf.losses.BinaryCrossentropy})"
      ]
    }
  ],
  "metadata": {
    "colab": {
      "provenance": [],
      "collapsed_sections": [
        "p6TXB4lCYd8m"
      ]
    },
    "kernelspec": {
      "display_name": "Python 3",
      "name": "python3"
    },
    "language_info": {
      "name": "python"
    }
  },
  "nbformat": 4,
  "nbformat_minor": 0
}